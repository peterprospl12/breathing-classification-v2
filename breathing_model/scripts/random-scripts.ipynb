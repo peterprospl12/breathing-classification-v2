{
 "cells": [
  {
   "cell_type": "code",
   "id": "initial_id",
   "metadata": {
    "collapsed": true
   },
   "source": [
    "import os\n",
    "\n",
    "def rename_and_delete_files(directory):\n",
    "    # Iterate over subdirectories\n",
    "    for subdir in ['inhale', 'exhale', 'silence']:\n",
    "        subdir_path = os.path.join(directory, subdir)\n",
    "        if not os.path.exists(subdir_path):\n",
    "            continue\n",
    "\n",
    "        i = 1  # Counter for renaming files\n",
    "\n",
    "        # Iterate over files in subdirectory\n",
    "        for filename in os.listdir(subdir_path):\n",
    "            file_path = os.path.join(subdir_path, filename)\n",
    "\n",
    "            # If file starts with 'repo_' or 'master_', delete it\n",
    "            if filename.startswith('repo_') or filename.startswith('master_'):\n",
    "                os.remove(file_path)\n",
    "                print(f'Deleted: {file_path}')\n",
    "            else:\n",
    "                # Rename file to subdir{i}.wav\n",
    "                new_filename = f'{subdir}{i}.wav'\n",
    "                new_file_path = os.path.join(subdir_path, new_filename)\n",
    "                os.rename(file_path, new_file_path)\n",
    "                print(f'Renamed: {file_path} to {new_file_path}')\n",
    "                i += 1\n",
    "\n",
    "# Call the function with the main directory path\n",
    "rename_and_delete_files('../data-ours')"
   ],
   "outputs": [],
   "execution_count": null
  },
  {
   "metadata": {
    "ExecuteTime": {
     "end_time": "2025-01-26T20:59:53.110583Z",
     "start_time": "2025-01-26T20:59:52.820882Z"
    }
   },
   "cell_type": "code",
   "source": [
    "import os\n",
    "from pydub import AudioSegment\n",
    "\n",
    "total_length = 0\n",
    "# Function to print lengths of .wav files in the directories\n",
    "def print_wav_lengths(directory):\n",
    "    global total_length\n",
    "    for filename in os.listdir(directory):\n",
    "        if filename.endswith('.wav'):\n",
    "            file_path = os.path.join(directory, filename)\n",
    "            audio = AudioSegment.from_wav(file_path)\n",
    "            duration = len(audio) / 1000  # Length in seconds\n",
    "            # print(f'File: {filename}, Length: {duration:.2f} s')\n",
    "            total_length += duration\n",
    "    print()\n",
    "\n",
    "# Directories to check\n",
    "print_wav_lengths('../data-ours/inhale')\n",
    "print_wav_lengths('../data-ours/exhale')\n",
    "print_wav_lengths('../data-ours/silence')\n",
    "print(f'Total length: {total_length/60:.2f} m')\n"
   ],
   "id": "4fc40e5c4eccab8a",
   "outputs": [
    {
     "name": "stdout",
     "output_type": "stream",
     "text": [
      "\n",
      "\n",
      "\n",
      "Total length: 83.37 s\n"
     ]
    }
   ],
   "execution_count": 4
  },
  {
   "metadata": {},
   "cell_type": "code",
   "outputs": [],
   "execution_count": null,
   "source": [
    "import numpy as np\n",
    "\n",
    "def normalize_data(train_data, val_data):\n",
    "    # Połącz wszystkie MFCC coefficients z danych treningowych w jedną tablicę\n",
    "    all_mfccs = np.concatenate([np.array([item[0] for item in sequence]) for sequence in train_data])\n",
    "\n",
    "    # Oblicz średnią i odchylenie standardowe\n",
    "    mean = np.mean(all_mfccs, axis=0)\n",
    "    std = np.std(all_mfccs, axis=0)\n",
    "\n",
    "    # Funkcja do normalizacji pojedynczej sekwencji\n",
    "    def normalize_sequence(sequence):\n",
    "        return [( (np.array(mfcc) - mean) / std, label ) for mfcc, label in sequence]\n",
    "\n",
    "    # Znormalizuj dane treningowe i walidacyjne\n",
    "    normalized_train_data = [normalize_sequence(sequence) for sequence in train_data]\n",
    "    normalized_val_data = [normalize_sequence(sequence) for sequence in val_data]\n",
    "\n",
    "    return normalized_train_data, normalized_val_data, mean, std\n",
    "\n",
    "# Load wav file from ../data-ours/inhale/inhale1.wav\n",
    "audio = AudioSegment.from_wav('../data-ours/inhale/inhale1.wav')\n",
    "\n",
    "# Normalize it and save it ad ./xd.wav\n",
    "normalized = normalize_data()"
   ],
   "id": "7821a80aaf4d8229"
  },
  {
   "metadata": {
    "ExecuteTime": {
     "end_time": "2025-02-23T14:47:15.398099Z",
     "start_time": "2025-02-23T14:47:15.220761Z"
    }
   },
   "cell_type": "code",
   "source": [
    "import os\n",
    "import wave\n",
    "\n",
    "def count_channels(directory):\n",
    "    counts = {\n",
    "        'inhale': {\n",
    "            '44100_mono': 0,\n",
    "            '44100_stereo': 0,\n",
    "            '48000_mono': 0,\n",
    "            '48000_stereo': 0\n",
    "        },\n",
    "        'exhale': {\n",
    "            '44100_mono': 0,\n",
    "            '44100_stereo': 0,\n",
    "            '48000_mono': 0,\n",
    "            '48000_stereo': 0\n",
    "        },\n",
    "        'silence': {\n",
    "            '44100_mono': 0,\n",
    "            '44100_stereo': 0,\n",
    "            '48000_mono': 0,\n",
    "            '48000_stereo': 0\n",
    "        }\n",
    "    }\n",
    "\n",
    "    for subdir in ['inhale', 'exhale', 'silence']:\n",
    "        subdir_path = os.path.join(directory, subdir)\n",
    "        if not os.path.exists(subdir_path):\n",
    "            continue\n",
    "\n",
    "        for root, _, files in os.walk(subdir_path):\n",
    "            for file in files:\n",
    "                if file.endswith('.wav'):\n",
    "                    file_path = os.path.join(root, file)\n",
    "                    with wave.open(file_path, 'rb') as wav_file:\n",
    "                        channels = wav_file.getnchannels()\n",
    "                        framerate = wav_file.getframerate()\n",
    "                        if framerate == 44100:\n",
    "                            if channels == 1:\n",
    "                                counts[subdir]['44100_mono'] += 1\n",
    "                            elif channels == 2:\n",
    "                                counts[subdir]['44100_stereo'] += 1\n",
    "                        elif framerate == 48000:\n",
    "                            if channels == 1:\n",
    "                                counts[subdir]['48000_mono'] += 1\n",
    "                            elif channels == 2:\n",
    "                                counts[subdir]['48000_stereo'] += 1\n",
    "\n",
    "    return counts\n",
    "\n",
    "directory = '../data'  # Zmień na ścieżkę do katalogu, który chcesz przeszukać\n",
    "counts = count_channels(directory)\n",
    "for subdir in ['inhale', 'exhale', 'silence']:\n",
    "    print(f\"Katalog: {subdir}\")\n",
    "    print(f\"  Liczba plików 44100 Hz mono: {counts[subdir]['44100_mono']}\")\n",
    "    print(f\"  Liczba plików 44100 Hz stereo: {counts[subdir]['44100_stereo']}\")\n",
    "    print(f\"  Liczba plików 48000 Hz mono: {counts[subdir]['48000_mono']}\")\n",
    "    print(f\"  Liczba plików 48000 Hz stereo: {counts[subdir]['48000_stereo']}\")"
   ],
   "id": "6b7941673a52d4e1",
   "outputs": [
    {
     "name": "stdout",
     "output_type": "stream",
     "text": [
      "Katalog: inhale\n",
      "  Liczba plików 44100 Hz mono: 0\n",
      "  Liczba plików 44100 Hz stereo: 324\n",
      "  Liczba plików 48000 Hz mono: 0\n",
      "  Liczba plików 48000 Hz stereo: 106\n",
      "Katalog: exhale\n",
      "  Liczba plików 44100 Hz mono: 0\n",
      "  Liczba plików 44100 Hz stereo: 324\n",
      "  Liczba plików 48000 Hz mono: 0\n",
      "  Liczba plików 48000 Hz stereo: 106\n",
      "Katalog: silence\n",
      "  Liczba plików 44100 Hz mono: 0\n",
      "  Liczba plików 44100 Hz stereo: 168\n",
      "  Liczba plików 48000 Hz mono: 0\n",
      "  Liczba plików 48000 Hz stereo: 69\n"
     ]
    }
   ],
   "execution_count": 2
  },
  {
   "metadata": {
    "ExecuteTime": {
     "end_time": "2025-02-11T15:25:33.457700Z",
     "start_time": "2025-02-11T15:25:32.993942Z"
    }
   },
   "cell_type": "code",
   "source": [
    "import os\n",
    "from pydub import AudioSegment\n",
    "\n",
    "def calculate_total_length(directory, subdir):\n",
    "    total_length = 0\n",
    "    subdir_path = os.path.join(directory, subdir)\n",
    "    if not os.path.exists(subdir_path):\n",
    "        return total_length\n",
    "\n",
    "    for filename in os.listdir(subdir_path):\n",
    "        if filename.endswith('.wav'):\n",
    "            file_path = os.path.join(subdir_path, filename)\n",
    "            audio = AudioSegment.from_wav(file_path)\n",
    "            total_length += len(audio) / 1000  # Length in seconds\n",
    "\n",
    "    return total_length\n",
    "\n",
    "directory = '../data-test'\n",
    "inhale_length = calculate_total_length(directory, 'inhale')\n",
    "exhale_length = calculate_total_length(directory, 'exhale')\n",
    "silence_length = calculate_total_length(directory, 'silence')\n",
    "\n",
    "print(f'Łączna długość nagrań w katalogu inhale: {inhale_length:.2f} sekund')\n",
    "print(f'Łączna długość nagrań w katalogu exhale: {exhale_length:.2f} sekund')\n",
    "print(f'Łączna długość nagrań w katalogu silence: {silence_length:.2f} sekund')"
   ],
   "id": "39c142e243b352b0",
   "outputs": [
    {
     "name": "stdout",
     "output_type": "stream",
     "text": [
      "Łączna długość nagrań w katalogu inhale: 915.39 sekund\n",
      "Łączna długość nagrań w katalogu exhale: 1077.14 sekund\n",
      "Łączna długość nagrań w katalogu silence: 870.32 sekund\n"
     ]
    }
   ],
   "execution_count": 9
  },
  {
   "metadata": {
    "ExecuteTime": {
     "end_time": "2025-02-23T14:48:04.405165Z",
     "start_time": "2025-02-23T14:48:04.349819Z"
    }
   },
   "cell_type": "code",
   "source": [
    "import os\n",
    "import wave\n",
    "\n",
    "def count_channels(directory):\n",
    "    counts = {\n",
    "        '44100_mono': 0,\n",
    "        '44100_stereo': 0,\n",
    "        '48000_mono': 0,\n",
    "        '48000_stereo': 0\n",
    "    }\n",
    "\n",
    "    for root, _, files in os.walk(directory):\n",
    "        for file in files:\n",
    "            if file.endswith('.wav'):\n",
    "                file_path = os.path.join(root, file)\n",
    "                with wave.open(file_path, 'rb') as wav_file:\n",
    "                    channels = wav_file.getnchannels()\n",
    "                    framerate = wav_file.getframerate()\n",
    "                    if framerate == 44100:\n",
    "                        if channels == 1:\n",
    "                            counts['44100_mono'] += 1\n",
    "                        elif channels == 2:\n",
    "                            counts['44100_stereo'] += 1\n",
    "                    elif framerate == 48000:\n",
    "                        if channels == 1:\n",
    "                            counts['48000_mono'] += 1\n",
    "                        elif channels == 2:\n",
    "                            counts['48000_stereo'] += 1\n",
    "\n",
    "    return counts\n",
    "\n",
    "directory = '../master-sequences-processed'  # Zmień na ścieżkę do katalogu, który chcesz przeszukać\n",
    "counts = count_channels(directory)\n",
    "print(f\"Liczba plików 44100 Hz mono: {counts['44100_mono']}\")\n",
    "print(f\"Liczba plików 44100 Hz stereo: {counts['44100_stereo']}\")\n",
    "print(f\"Liczba plików 48000 Hz mono: {counts['48000_mono']}\")\n",
    "print(f\"Liczba plików 48000 Hz stereo: {counts['48000_stereo']}\")"
   ],
   "id": "4f4bf6bc2a9ac5ff",
   "outputs": [
    {
     "name": "stdout",
     "output_type": "stream",
     "text": [
      "Liczba plików 44100 Hz mono: 202\n",
      "Liczba plików 44100 Hz stereo: 0\n",
      "Liczba plików 48000 Hz mono: 0\n",
      "Liczba plików 48000 Hz stereo: 0\n"
     ]
    }
   ],
   "execution_count": 4
  },
  {
   "metadata": {
    "ExecuteTime": {
     "end_time": "2025-02-23T15:58:15.978113Z",
     "start_time": "2025-02-23T15:58:15.957160Z"
    }
   },
   "cell_type": "code",
   "source": [
    "import struct\n",
    "import sys\n",
    "\n",
    "def decode_wav_header(filename):\n",
    "    with open(filename, 'rb') as f:\n",
    "        # Standardowy nagłówek WAV dla formatu PCM ma 44 bajty.\n",
    "        header = f.read(44)\n",
    "        # Rozpakowywanie zgodnie z little-endian ('<')\n",
    "        riff, file_size, wave_id, fmt_id, fmt_chunk_size, audio_format, \\\n",
    "        num_channels, sample_rate, byte_rate, block_align, bits_per_sample, \\\n",
    "        data_id, data_size = struct.unpack('<4sI4s4sIHHIIHH4sI', header)\n",
    "\n",
    "        print(\"RIFF header:\", riff.decode('ascii'))\n",
    "        print(\"Rozmiar pliku:\", file_size)\n",
    "        print(\"WAVE header:\", wave_id.decode('ascii'))\n",
    "        print(\"FMT header:\", fmt_id.decode('ascii'))\n",
    "        print(\"Rozmiar chunku fmt:\", fmt_chunk_size)\n",
    "        print(\"Format audio (1 = PCM):\", audio_format)\n",
    "        print(\"Liczba kanałów:\", num_channels)\n",
    "        print(\"Częstotliwość próbkowania:\", sample_rate)\n",
    "        print(\"Byte rate:\", byte_rate)\n",
    "        print(\"Block align:\", block_align)\n",
    "        print(\"Bity na próbkę:\", bits_per_sample)\n",
    "        print(\"Data header:\", data_id.decode('ascii'))\n",
    "        print(\"Rozmiar danych:\", data_size)\n",
    "\n",
    "        # Dodatkowe informacje o formacie próbek\n",
    "        if audio_format == 1:\n",
    "            format_type = \"PCM (Pulse Code Modulation)\"\n",
    "        elif audio_format == 3:\n",
    "            format_type = \"IEEE 754 float\"\n",
    "        else:\n",
    "            format_type = \"Inny lub nieznany format\"\n",
    "\n",
    "        print(\"Typ formatu audio:\", format_type)\n",
    "\n",
    "        # Obliczanie liczby próbek\n",
    "        total_samples = data_size * 8 / (num_channels * bits_per_sample)\n",
    "        print(\"Łączna liczba próbek:\", int(total_samples))\n",
    "\n",
    "if __name__ == '__main__':\n",
    "    decode_wav_header(\"../master-sequences-processed/sequence_150_master.wav\")\n",
    "\n"
   ],
   "id": "55a7a869446ffbcb",
   "outputs": [
    {
     "name": "stdout",
     "output_type": "stream",
     "text": [
      "RIFF header: RIFF\n",
      "Rozmiar pliku: 882036\n",
      "WAVE header: WAVE\n",
      "FMT header: fmt \n",
      "Rozmiar chunku fmt: 16\n",
      "Format audio (1 = PCM): 1\n",
      "Liczba kanałów: 1\n",
      "Częstotliwość próbkowania: 44100\n",
      "Byte rate: 88200\n",
      "Block align: 2\n",
      "Bity na próbkę: 16\n",
      "Data header: data\n",
      "Rozmiar danych: 882000\n",
      "Typ formatu audio: PCM (Pulse Code Modulation)\n",
      "Łączna liczba próbek: 441000\n"
     ]
    }
   ],
   "execution_count": 10
  }
 ],
 "metadata": {
  "kernelspec": {
   "display_name": "Python 3",
   "language": "python",
   "name": "python3"
  },
  "language_info": {
   "codemirror_mode": {
    "name": "ipython",
    "version": 2
   },
   "file_extension": ".py",
   "mimetype": "text/x-python",
   "name": "python",
   "nbconvert_exporter": "python",
   "pygments_lexer": "ipython2",
   "version": "2.7.6"
  }
 },
 "nbformat": 4,
 "nbformat_minor": 5
}
