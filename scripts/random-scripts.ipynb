{
 "cells": [
  {
   "cell_type": "code",
   "id": "initial_id",
   "metadata": {
    "collapsed": true
   },
   "source": [
    "import os\n",
    "\n",
    "def rename_and_delete_files(directory):\n",
    "    # Iterate over subdirectories\n",
    "    for subdir in ['inhale', 'exhale', 'silence']:\n",
    "        subdir_path = os.path.join(directory, subdir)\n",
    "        if not os.path.exists(subdir_path):\n",
    "            continue\n",
    "\n",
    "        i = 1  # Counter for renaming files\n",
    "\n",
    "        # Iterate over files in subdirectory\n",
    "        for filename in os.listdir(subdir_path):\n",
    "            file_path = os.path.join(subdir_path, filename)\n",
    "\n",
    "            # If file starts with 'repo_' or 'master_', delete it\n",
    "            if filename.startswith('repo_') or filename.startswith('master_'):\n",
    "                os.remove(file_path)\n",
    "                print(f'Deleted: {file_path}')\n",
    "            else:\n",
    "                # Rename file to subdir{i}.wav\n",
    "                new_filename = f'{subdir}{i}.wav'\n",
    "                new_file_path = os.path.join(subdir_path, new_filename)\n",
    "                os.rename(file_path, new_file_path)\n",
    "                print(f'Renamed: {file_path} to {new_file_path}')\n",
    "                i += 1\n",
    "\n",
    "# Call the function with the main directory path\n",
    "rename_and_delete_files('../data-ours')"
   ],
   "outputs": [],
   "execution_count": null
  },
  {
   "metadata": {
    "ExecuteTime": {
     "end_time": "2025-01-26T20:59:53.110583Z",
     "start_time": "2025-01-26T20:59:52.820882Z"
    }
   },
   "cell_type": "code",
   "source": [
    "import os\n",
    "from pydub import AudioSegment\n",
    "\n",
    "total_length = 0\n",
    "# Function to print lengths of .wav files in the directories\n",
    "def print_wav_lengths(directory):\n",
    "    global total_length\n",
    "    for filename in os.listdir(directory):\n",
    "        if filename.endswith('.wav'):\n",
    "            file_path = os.path.join(directory, filename)\n",
    "            audio = AudioSegment.from_wav(file_path)\n",
    "            duration = len(audio) / 1000  # Length in seconds\n",
    "            # print(f'File: {filename}, Length: {duration:.2f} s')\n",
    "            total_length += duration\n",
    "    print()\n",
    "\n",
    "# Directories to check\n",
    "print_wav_lengths('../data-ours/inhale')\n",
    "print_wav_lengths('../data-ours/exhale')\n",
    "print_wav_lengths('../data-ours/silence')\n",
    "print(f'Total length: {total_length/60:.2f} m')\n"
   ],
   "id": "4fc40e5c4eccab8a",
   "outputs": [
    {
     "name": "stdout",
     "output_type": "stream",
     "text": [
      "\n",
      "\n",
      "\n",
      "Total length: 83.37 s\n"
     ]
    }
   ],
   "execution_count": 4
  }
 ],
 "metadata": {
  "kernelspec": {
   "display_name": "Python 3",
   "language": "python",
   "name": "python3"
  },
  "language_info": {
   "codemirror_mode": {
    "name": "ipython",
    "version": 2
   },
   "file_extension": ".py",
   "mimetype": "text/x-python",
   "name": "python",
   "nbconvert_exporter": "python",
   "pygments_lexer": "ipython2",
   "version": "2.7.6"
  }
 },
 "nbformat": 4,
 "nbformat_minor": 5
}
