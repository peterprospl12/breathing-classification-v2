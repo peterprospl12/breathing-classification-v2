{
 "cells": [
  {
   "metadata": {
    "ExecuteTime": {
     "end_time": "2025-01-27T17:42:15.952886Z",
     "start_time": "2025-01-27T17:42:15.791372Z"
    }
   },
   "cell_type": "code",
   "source": [
    "import numpy as np\n",
    "\n",
    "def normalize_data(train_data, val_data):\n",
    "    # Połącz wszystkie MFCC coefficients z danych treningowych w jedną tablicę\n",
    "    all_mfccs = np.concatenate([np.array([item[0] for item in sequence]) for sequence in train_data])\n",
    "\n",
    "    print(all_mfccs.shape())\n",
    "    # Oblicz średnią i odchylenie standardowe\n",
    "    mean = np.mean(all_mfccs, axis=0)\n",
    "    std = np.std(all_mfccs, axis=0)\n",
    "\n",
    "    print(mean.shape())\n",
    "    print(std.shape())\n",
    "    # Funkcja do normalizacji pojedynczej sekwencji\n",
    "    def normalize_sequence(sequence):\n",
    "        return [( (np.array(mfcc) - mean) / std, label ) for mfcc, label in sequence]\n",
    "\n",
    "    # Znormalizuj dane treningowe i walidacyjne\n",
    "    normalized_train_data = [normalize_sequence(sequence) for sequence in train_data]\n",
    "    normalized_val_data = [normalize_sequence(sequence) for sequence in val_data]\n",
    "\n",
    "    return normalized_train_data, normalized_val_data, mean, std\n"
   ],
   "id": "b3387543fa33cb3a",
   "outputs": [],
   "execution_count": 1
  },
  {
   "metadata": {},
   "cell_type": "markdown",
   "source": "## Audio data normalization function",
   "id": "38c2370425a0ad01"
  },
  {
   "metadata": {},
   "cell_type": "markdown",
   "source": "# **Data preprocessing**",
   "id": "f60c5ddf4c188baa"
  },
  {
   "metadata": {
    "ExecuteTime": {
     "end_time": "2025-02-04T22:32:48.674271Z",
     "start_time": "2025-02-04T22:31:45.984665Z"
    }
   },
   "cell_type": "code",
   "source": [
    "import os\n",
    "import librosa\n",
    "import csv\n",
    "from sklearn.model_selection import train_test_split\n",
    "from torch.utils.data import DataLoader\n",
    "\n",
    "REFRESH_TIME = 0.25  # seconds\n",
    "BATCH_SIZE = 16\n",
    "\n",
    "# Directories with data\n",
    "data_dir = '../train-sequences'\n",
    "\n",
    "# Function to load labels from csv file\n",
    "def load_labels(csv_file_v):\n",
    "    labels_v = []\n",
    "    with open(csv_file_v, 'r') as file:\n",
    "        reader = csv.reader(file)\n",
    "        next(reader)  # Pomijamy nagłówek\n",
    "        for row in reader:\n",
    "            if row[0] == 'silence':\n",
    "                labels_v.append((2, int(row[1]), int(row[2])))\n",
    "            elif row[0] == 'inhale':\n",
    "                labels_v.append((1, int(row[1]), int(row[2])))\n",
    "            elif row[0] == 'exhale':\n",
    "                labels_v.append((0, int(row[1]), int(row[2])))\n",
    "    return labels_v\n",
    "\n",
    "# Function to get the label for a given time\n",
    "def get_label_for_time(labels_v, start_frame, end_frame):\n",
    "    label_counts = [0, 0, 0]  # 0: exhale, 1: inhale, 2: silence\n",
    "\n",
    "    for label_it, start, end in labels_v:\n",
    "        if start < end_frame and end > start_frame:\n",
    "            overlap_start = max(start, start_frame)\n",
    "            overlap_end = min(end, end_frame)\n",
    "            overlap_length = overlap_end - overlap_start\n",
    "            label_counts[label_it] += overlap_length\n",
    "\n",
    "    return label_counts.index(max(label_counts))\n",
    "\n",
    "# Creating list of files\n",
    "wav_files = [os.path.join(data_dir, file) for file in os.listdir(data_dir) if file.endswith('.wav')]\n",
    "train_data = []\n",
    "\n",
    "# Main loop to preprocess data into MFCCs\n",
    "for wav_file in wav_files:\n",
    "    csv_file = wav_file.replace('.wav', '.csv')\n",
    "    if not os.path.exists(csv_file):\n",
    "        continue\n",
    "\n",
    "    # Load audio and labels\n",
    "    y, sr = librosa.load(wav_file, mono=True)\n",
    "    labels = load_labels(csv_file)\n",
    "\n",
    "    # Calculate chunk size\n",
    "    chunk_size = int(sr * REFRESH_TIME)\n",
    "\n",
    "    # List of MFCCs for every data sequence (it will be a list of lists of tuples (mfcc coefficients, label))\n",
    "    mfcc_sequence = []\n",
    "\n",
    "    # Iterate through every 0.25s audio chunk\n",
    "    for i in range(0, len(y), chunk_size):\n",
    "        frame = y[i:i + chunk_size]\n",
    "        if len(frame) == chunk_size:\n",
    "            mfcc = librosa.feature.mfcc(y=frame, sr=sr)\n",
    "            mfcc_mean = mfcc.mean(axis=1)\n",
    "            label = get_label_for_time(labels, i, i + chunk_size)\n",
    "            mfcc_sequence.append((mfcc_mean, label))\n",
    "\n",
    "    if mfcc_sequence:\n",
    "        train_data.append(mfcc_sequence)"
   ],
   "id": "2e259d6856399c02",
   "outputs": [],
   "execution_count": 13
  },
  {
   "metadata": {
    "ExecuteTime": {
     "end_time": "2025-02-04T22:33:00.762234Z",
     "start_time": "2025-02-04T22:33:00.752336Z"
    }
   },
   "cell_type": "code",
   "source": [
    "# Check length of every sequence\n",
    "\n",
    "lengths = [len(seq) for seq in train_data]\n",
    "print(\"Min length: \", min(lengths))\n",
    "print(\"Max length: \", max(lengths))\n",
    "print(lengths)"
   ],
   "id": "15d263ccff2a2af6",
   "outputs": [
    {
     "name": "stdout",
     "output_type": "stream",
     "text": [
      "Min length:  120\n",
      "Max length:  131\n",
      "[128, 126, 127, 126, 126, 125, 120, 123, 121, 122, 124, 128, 121, 131, 121, 127, 120, 122, 130, 123, 130, 120, 121, 128, 128, 125, 123, 123, 130, 131, 120, 130, 121, 124, 122, 121, 131, 122, 130, 125, 123, 128, 129, 128, 120, 120, 122, 124, 120, 122, 121, 121, 122, 121, 125, 128, 126, 123, 128, 129, 126, 121, 126, 124, 121, 124, 131, 123, 123, 121, 125, 126, 128, 122, 126, 126, 120, 121, 128, 122, 124, 128, 120, 123, 127, 122, 129, 124, 124, 125, 125, 124, 123, 125, 120, 125, 121, 127, 122, 124, 120, 121, 128, 124, 121, 122, 124, 123, 120, 126, 122, 121, 123, 128, 126, 124, 120, 124, 123, 121, 121, 128, 121, 120, 126, 127, 126, 125, 130, 123, 125, 127, 121, 121, 124, 127, 127, 125, 127, 123, 126, 124, 120, 126, 120, 120, 125, 129, 123, 125, 127, 122, 128, 127, 122, 127]\n"
     ]
    }
   ],
   "execution_count": 14
  },
  {
   "metadata": {},
   "cell_type": "markdown",
   "source": "# **Data Loader**",
   "id": "9ca0c0d1656d1e1a"
  },
  {
   "metadata": {
    "ExecuteTime": {
     "end_time": "2025-02-04T22:33:02.945600Z",
     "start_time": "2025-02-04T22:33:02.934508Z"
    }
   },
   "cell_type": "code",
   "source": [
    "# Split data into train and validation sets\n",
    "train_data, val_data = train_test_split(train_data, test_size=0.2)\n",
    "\n",
    "# DataLoader and collate function\n",
    "from model_classes import AudioDataset\n",
    "import torch\n",
    "\n",
    "train_dataset = AudioDataset(train_data)\n",
    "val_dataset = AudioDataset(val_data)\n",
    "\n",
    "def collate_fn(batch):\n",
    "    sequences, labels_t = zip(*batch)\n",
    "    lengths_t = [seq.size(0) for seq in sequences]\n",
    "    max_length = max(lengths_t)\n",
    "    padded_sequences = torch.zeros(len(sequences), max_length, 20)\n",
    "    padded_labels = torch.zeros(len(sequences), max_length, dtype=torch.long)\n",
    "    for j, seq in enumerate(sequences):\n",
    "        padded_sequences[j, :seq.size(0), :] = seq\n",
    "        padded_labels[j, :len(labels_t[j])] = labels_t[j]\n",
    "    return padded_sequences, padded_labels\n",
    "\n",
    "train_loader = DataLoader(train_dataset, batch_size=BATCH_SIZE, shuffle=True, collate_fn=collate_fn)\n",
    "val_loader = DataLoader(val_dataset, batch_size=BATCH_SIZE, shuffle=False, collate_fn=collate_fn)"
   ],
   "id": "2351c796d1a59395",
   "outputs": [],
   "execution_count": 15
  },
  {
   "metadata": {},
   "cell_type": "markdown",
   "source": "# **Training**",
   "id": "7610dd8d5e792cad"
  },
  {
   "metadata": {
    "ExecuteTime": {
     "end_time": "2025-02-04T22:34:23.407965Z",
     "start_time": "2025-02-04T22:33:07.760295Z"
    }
   },
   "cell_type": "code",
   "source": [
    "import time\n",
    "import torch.optim as optim\n",
    "from tqdm import tqdm\n",
    "from sklearn.metrics import accuracy_score\n",
    "from model_classes import AudioClassifierLSTM as AudioClassifier\n",
    "import torch.nn as nn\n",
    "\n",
    "REFRESH_TIME = 0.25  # Refresh time in seconds in future realtime\n",
    "NUM_EPOCHS = 100  # Number of epochs (the more epoch the better model, but it takes more time)\n",
    "PATIENCE_TIME = 10  # Number of epochs without improvement in validation accuracy that will stop training\n",
    "LEARNING_RATE = 0.001  # Learning rate\n",
    "BATCH_SIZE = 16  # Batch size (amount of sequences in one batch)\n",
    "\n",
    "# Check if CUDA is available (learning on GPU is much faster)\n",
    "device = torch.device('cuda' if torch.cuda.is_available() else 'cpu')\n",
    "print(\"Device: \", device)\n",
    "\n",
    "total_time = time.time()\n",
    "start_time = time.time()\n",
    "\n",
    "# Create model object\n",
    "print(\"Creating model...\")\n",
    "model = AudioClassifier()\n",
    "model = model.to(device)\n",
    "print(\"Model created, time: \", time.time() - start_time)\n",
    "\n",
    "# Define loss function and optimizer (network parameters)\n",
    "criterion = nn.CrossEntropyLoss()\n",
    "optimizer = optim.Adam(model.parameters(), lr=LEARNING_RATE)\n",
    "scheduler = torch.optim.lr_scheduler.StepLR(optimizer, step_size=5, gamma=0.5)\n",
    "\n",
    "# These are just for early stopping\n",
    "best_val_accuracy = 0.0\n",
    "early_stopping_counter = 0\n",
    "\n",
    "print(\"Training model...\")\n",
    "start_time = time.time()\n",
    "\n",
    "# Iterate through epochs\n",
    "for epoch in range(NUM_EPOCHS):\n",
    "\n",
    "    # Enable training on model object\n",
    "    model.train()\n",
    "\n",
    "    # Initialize running loss and accuracy\n",
    "    running_loss = 0.0\n",
    "    running_accuracy = 0.0\n",
    "    # It's just a fancy progress bar in console\n",
    "    progress_bar = tqdm(train_loader, desc=f'Epoch {epoch + 1}/{NUM_EPOCHS}', unit='batch')\n",
    "\n",
    "    # Iterate through batches\n",
    "    for inputs, labels in progress_bar:\n",
    "\n",
    "        # Move inputs and labels to the device (GPU or CPU)\n",
    "        inputs = inputs.to(device)\n",
    "        labels = labels.to(device)\n",
    "\n",
    "        # Zero the gradients\n",
    "        optimizer.zero_grad()\n",
    "\n",
    "        # Forward pass\n",
    "        outputs = model(inputs)\n",
    "\n",
    "        # Jeśli model zwraca więcej niż jedną wartość, przypisz odpowiednią wartość do outputs\n",
    "        if isinstance(outputs, tuple):\n",
    "            outputs = outputs[0]\n",
    "\n",
    "        # Flattening outputs and labels from [batch_size, max_length, num_classes]\n",
    "        outputs = outputs.view(-1, outputs.size(-1))  # Flattening to [batch_size * max_length, num_classes]\n",
    "        labels = labels.view(-1)  # Flattening to [batch_size * max_length]\n",
    "\n",
    "        # Calculate loss\n",
    "        loss = criterion(outputs, labels)\n",
    "\n",
    "        # Backward pass (calculate gradients)\n",
    "        loss.backward()\n",
    "\n",
    "        # Update weights according to the calculated gradients\n",
    "        optimizer.step()\n",
    "\n",
    "        # Calculate running loss and accuracy\n",
    "        running_loss += loss.item()\n",
    "        _, predicted = torch.max(outputs, 1)\n",
    "        running_accuracy += accuracy_score(labels.cpu(), predicted.cpu())\n",
    "\n",
    "        # Update progress bar\n",
    "        progress_bar.set_postfix(loss=running_loss / len(progress_bar),\n",
    "                                  accuracy=running_accuracy / len(progress_bar))\n",
    "\n",
    "    # Print the loss and accuracy for the epoch\n",
    "    print('Train Loss: {:.4f}, Train Accuracy: {:.4f}'.format(running_loss / len(train_loader),\n",
    "                                                              running_accuracy / len(train_loader)))\n",
    "\n",
    "    # After training on the whole training set, we can evaluate the model on the validation set\n",
    "    model.eval()\n",
    "    val_running_loss = 0.0\n",
    "    val_running_accuracy = 0.0\n",
    "\n",
    "    # We don't need to calculate gradients during validation\n",
    "    with torch.no_grad():\n",
    "\n",
    "        # Iterate through validation set\n",
    "        for inputs, labels in val_loader:\n",
    "\n",
    "            # Move inputs and labels to the device\n",
    "            inputs = inputs.to(device)\n",
    "            labels = labels.to(device)\n",
    "\n",
    "            # Forward pass\n",
    "            outputs = model(inputs)\n",
    "\n",
    "            # Jeśli model zwraca więcej niż jedną wartość, przypisz odpowiednią wartość do outputs\n",
    "            if isinstance(outputs, tuple):\n",
    "                outputs = outputs[0]\n",
    "\n",
    "            # As previous, we need to flatten outputs and labels\n",
    "            outputs = outputs.view(-1, outputs.size(-1)) # Flattening to [batch_size * max_length, num_classes]\n",
    "            labels = labels.view(-1) # Flattening to [batch_size * max_length]\n",
    "\n",
    "            # Calculate loss\n",
    "            loss = criterion(outputs, labels)\n",
    "\n",
    "            # Calculate running loss (cumulative loss over batches) and add current epoch's accuracy to the running (cumulative) accuracy\n",
    "            val_running_loss += loss.item()\n",
    "            _, predicted = torch.max(outputs, 1)\n",
    "            val_running_accuracy += accuracy_score(labels.cpu(), predicted.cpu())\n",
    "\n",
    "    # Calculate cumulative loss and accuracy for the validation set\n",
    "    avg_val_loss = val_running_loss / len(val_loader)\n",
    "    avg_val_accuracy = val_running_accuracy / len(val_loader)\n",
    "\n",
    "    # And print it\n",
    "    print('Val Loss: {:.4f}, Val Accuracy: {:.4f}'.format(avg_val_loss, avg_val_accuracy))\n",
    "\n",
    "    # Learning rate scheduler (changing learning rate during training)\n",
    "    scheduler.step()\n",
    "\n",
    "    # Early stopping (if there is no improvement in validation accuracy for PATIENCE_TIME epochs, we stop training)\n",
    "    if avg_val_accuracy > best_val_accuracy:\n",
    "        best_val_accuracy = avg_val_accuracy\n",
    "        early_stopping_counter = 0\n",
    "    else:\n",
    "        early_stopping_counter += 1\n",
    "        if early_stopping_counter >= PATIENCE_TIME:\n",
    "            print(\"Early stopping triggered. No improvement in validation accuracy.\")\n",
    "            break\n",
    "\n",
    "# And print final results\n",
    "print('Finished Training, time: ', time.time() - start_time)\n",
    "print('Saving model...')\n",
    "start_time = time.time()\n",
    "#TODO\n",
    "torch.save(model.state_dict(), 'audio_rnn_classifier_only_our_data.pth')\n",
    "print(\"Model saved, time: \", time.time() - start_time)\n",
    "print(\"Finished, Total time: \", time.time() - total_time)"
   ],
   "id": "f77d53c4715f2c6f",
   "outputs": [
    {
     "name": "stdout",
     "output_type": "stream",
     "text": [
      "Device:  cpu\n",
      "Creating model...\n",
      "Model created, time:  0.015095710754394531\n",
      "Training model...\n"
     ]
    },
    {
     "name": "stderr",
     "output_type": "stream",
     "text": [
      "Epoch 1/100:   0%|          | 0/8 [00:00<?, ?batch/s]/home/tomasz/Pulpit/breathing-classification-v2/model/model_classes.py:50: UserWarning: Creating a tensor from a list of numpy.ndarrays is extremely slow. Please consider converting the list to a single numpy.ndarray with numpy.array() before converting to a tensor. (Triggered internally at ../torch/csrc/utils/tensor_new.cpp:278.)\n",
      "  mfcc_sequence = torch.tensor(mfcc_sequence, dtype=torch.float32)\n",
      "Epoch 1/100: 100%|██████████| 8/8 [00:02<00:00,  2.69batch/s, accuracy=0.38, loss=1.09]   \n"
     ]
    },
    {
     "name": "stdout",
     "output_type": "stream",
     "text": [
      "Train Loss: 1.0923, Train Accuracy: 0.3803\n",
      "Val Loss: 1.0869, Val Accuracy: 0.4071\n"
     ]
    },
    {
     "name": "stderr",
     "output_type": "stream",
     "text": [
      "Epoch 2/100: 100%|██████████| 8/8 [00:02<00:00,  3.50batch/s, accuracy=0.388, loss=1.09]  \n"
     ]
    },
    {
     "name": "stdout",
     "output_type": "stream",
     "text": [
      "Train Loss: 1.0881, Train Accuracy: 0.3877\n",
      "Val Loss: 1.0743, Val Accuracy: 0.4042\n"
     ]
    },
    {
     "name": "stderr",
     "output_type": "stream",
     "text": [
      "Epoch 3/100: 100%|██████████| 8/8 [00:02<00:00,  3.39batch/s, accuracy=0.382, loss=1.07]  \n"
     ]
    },
    {
     "name": "stdout",
     "output_type": "stream",
     "text": [
      "Train Loss: 1.0667, Train Accuracy: 0.3822\n",
      "Val Loss: 1.0489, Val Accuracy: 0.4042\n"
     ]
    },
    {
     "name": "stderr",
     "output_type": "stream",
     "text": [
      "Epoch 4/100: 100%|██████████| 8/8 [00:02<00:00,  3.40batch/s, accuracy=0.391, loss=1.05]  \n"
     ]
    },
    {
     "name": "stdout",
     "output_type": "stream",
     "text": [
      "Train Loss: 1.0524, Train Accuracy: 0.3909\n",
      "Val Loss: 1.0434, Val Accuracy: 0.3962\n"
     ]
    },
    {
     "name": "stderr",
     "output_type": "stream",
     "text": [
      "Epoch 5/100: 100%|██████████| 8/8 [00:02<00:00,  3.35batch/s, accuracy=0.418, loss=1.04]  \n"
     ]
    },
    {
     "name": "stdout",
     "output_type": "stream",
     "text": [
      "Train Loss: 1.0422, Train Accuracy: 0.4185\n",
      "Val Loss: 1.0316, Val Accuracy: 0.4482\n"
     ]
    },
    {
     "name": "stderr",
     "output_type": "stream",
     "text": [
      "Epoch 6/100: 100%|██████████| 8/8 [00:02<00:00,  3.42batch/s, accuracy=0.444, loss=1.02]  \n"
     ]
    },
    {
     "name": "stdout",
     "output_type": "stream",
     "text": [
      "Train Loss: 1.0234, Train Accuracy: 0.4437\n",
      "Val Loss: 1.0150, Val Accuracy: 0.4528\n"
     ]
    },
    {
     "name": "stderr",
     "output_type": "stream",
     "text": [
      "Epoch 7/100: 100%|██████████| 8/8 [00:02<00:00,  3.54batch/s, accuracy=0.448, loss=1.01]  \n"
     ]
    },
    {
     "name": "stdout",
     "output_type": "stream",
     "text": [
      "Train Loss: 1.0150, Train Accuracy: 0.4481\n",
      "Val Loss: 1.0296, Val Accuracy: 0.4238\n"
     ]
    },
    {
     "name": "stderr",
     "output_type": "stream",
     "text": [
      "Epoch 8/100: 100%|██████████| 8/8 [00:02<00:00,  3.68batch/s, accuracy=0.477, loss=0.983] \n"
     ]
    },
    {
     "name": "stdout",
     "output_type": "stream",
     "text": [
      "Train Loss: 0.9829, Train Accuracy: 0.4771\n",
      "Val Loss: 0.9996, Val Accuracy: 0.4712\n"
     ]
    },
    {
     "name": "stderr",
     "output_type": "stream",
     "text": [
      "Epoch 9/100: 100%|██████████| 8/8 [00:02<00:00,  3.51batch/s, accuracy=0.526, loss=0.953] \n"
     ]
    },
    {
     "name": "stdout",
     "output_type": "stream",
     "text": [
      "Train Loss: 0.9531, Train Accuracy: 0.5258\n",
      "Val Loss: 0.9740, Val Accuracy: 0.5030\n"
     ]
    },
    {
     "name": "stderr",
     "output_type": "stream",
     "text": [
      "Epoch 10/100: 100%|██████████| 8/8 [00:02<00:00,  3.15batch/s, accuracy=0.571, loss=0.93]  \n"
     ]
    },
    {
     "name": "stdout",
     "output_type": "stream",
     "text": [
      "Train Loss: 0.9302, Train Accuracy: 0.5706\n",
      "Val Loss: 0.9803, Val Accuracy: 0.5068\n"
     ]
    },
    {
     "name": "stderr",
     "output_type": "stream",
     "text": [
      "Epoch 11/100: 100%|██████████| 8/8 [00:02<00:00,  3.39batch/s, accuracy=0.571, loss=0.89] \n"
     ]
    },
    {
     "name": "stdout",
     "output_type": "stream",
     "text": [
      "Train Loss: 0.8899, Train Accuracy: 0.5710\n",
      "Val Loss: 0.9566, Val Accuracy: 0.5247\n"
     ]
    },
    {
     "name": "stderr",
     "output_type": "stream",
     "text": [
      "Epoch 12/100: 100%|██████████| 8/8 [00:02<00:00,  3.38batch/s, accuracy=0.595, loss=0.87]  \n"
     ]
    },
    {
     "name": "stdout",
     "output_type": "stream",
     "text": [
      "Train Loss: 0.8703, Train Accuracy: 0.5955\n",
      "Val Loss: 1.0060, Val Accuracy: 0.5223\n"
     ]
    },
    {
     "name": "stderr",
     "output_type": "stream",
     "text": [
      "Epoch 13/100: 100%|██████████| 8/8 [00:02<00:00,  3.22batch/s, accuracy=0.602, loss=0.858] \n"
     ]
    },
    {
     "name": "stdout",
     "output_type": "stream",
     "text": [
      "Train Loss: 0.8583, Train Accuracy: 0.6020\n",
      "Val Loss: 0.9793, Val Accuracy: 0.5303\n"
     ]
    },
    {
     "name": "stderr",
     "output_type": "stream",
     "text": [
      "Epoch 14/100: 100%|██████████| 8/8 [00:02<00:00,  3.30batch/s, accuracy=0.606, loss=0.849] \n"
     ]
    },
    {
     "name": "stdout",
     "output_type": "stream",
     "text": [
      "Train Loss: 0.8491, Train Accuracy: 0.6057\n",
      "Val Loss: 0.9820, Val Accuracy: 0.5340\n"
     ]
    },
    {
     "name": "stderr",
     "output_type": "stream",
     "text": [
      "Epoch 15/100: 100%|██████████| 8/8 [00:02<00:00,  3.22batch/s, accuracy=0.619, loss=0.832]  \n"
     ]
    },
    {
     "name": "stdout",
     "output_type": "stream",
     "text": [
      "Train Loss: 0.8318, Train Accuracy: 0.6194\n",
      "Val Loss: 0.9527, Val Accuracy: 0.5247\n"
     ]
    },
    {
     "name": "stderr",
     "output_type": "stream",
     "text": [
      "Epoch 16/100: 100%|██████████| 8/8 [00:02<00:00,  3.13batch/s, accuracy=0.618, loss=0.82]  \n"
     ]
    },
    {
     "name": "stdout",
     "output_type": "stream",
     "text": [
      "Train Loss: 0.8200, Train Accuracy: 0.6185\n",
      "Val Loss: 0.9625, Val Accuracy: 0.5417\n"
     ]
    },
    {
     "name": "stderr",
     "output_type": "stream",
     "text": [
      "Epoch 17/100: 100%|██████████| 8/8 [00:02<00:00,  3.15batch/s, accuracy=0.624, loss=0.817] \n"
     ]
    },
    {
     "name": "stdout",
     "output_type": "stream",
     "text": [
      "Train Loss: 0.8167, Train Accuracy: 0.6242\n",
      "Val Loss: 0.9853, Val Accuracy: 0.5378\n"
     ]
    },
    {
     "name": "stderr",
     "output_type": "stream",
     "text": [
      "Epoch 18/100: 100%|██████████| 8/8 [00:02<00:00,  3.06batch/s, accuracy=0.634, loss=0.805]  \n"
     ]
    },
    {
     "name": "stdout",
     "output_type": "stream",
     "text": [
      "Train Loss: 0.8052, Train Accuracy: 0.6341\n",
      "Val Loss: 0.9914, Val Accuracy: 0.5315\n"
     ]
    },
    {
     "name": "stderr",
     "output_type": "stream",
     "text": [
      "Epoch 19/100: 100%|██████████| 8/8 [00:02<00:00,  3.12batch/s, accuracy=0.643, loss=0.797]  \n"
     ]
    },
    {
     "name": "stdout",
     "output_type": "stream",
     "text": [
      "Train Loss: 0.7969, Train Accuracy: 0.6431\n",
      "Val Loss: 0.9806, Val Accuracy: 0.5357\n"
     ]
    },
    {
     "name": "stderr",
     "output_type": "stream",
     "text": [
      "Epoch 20/100: 100%|██████████| 8/8 [00:02<00:00,  2.94batch/s, accuracy=0.633, loss=0.803]  \n"
     ]
    },
    {
     "name": "stdout",
     "output_type": "stream",
     "text": [
      "Train Loss: 0.8033, Train Accuracy: 0.6334\n",
      "Val Loss: 0.9921, Val Accuracy: 0.5390\n"
     ]
    },
    {
     "name": "stderr",
     "output_type": "stream",
     "text": [
      "Epoch 21/100: 100%|██████████| 8/8 [00:03<00:00,  2.38batch/s, accuracy=0.641, loss=0.788]  \n"
     ]
    },
    {
     "name": "stdout",
     "output_type": "stream",
     "text": [
      "Train Loss: 0.7883, Train Accuracy: 0.6408\n",
      "Val Loss: 0.9790, Val Accuracy: 0.5374\n"
     ]
    },
    {
     "name": "stderr",
     "output_type": "stream",
     "text": [
      "Epoch 22/100: 100%|██████████| 8/8 [00:03<00:00,  2.03batch/s, accuracy=0.648, loss=0.789]  \n"
     ]
    },
    {
     "name": "stdout",
     "output_type": "stream",
     "text": [
      "Train Loss: 0.7895, Train Accuracy: 0.6481\n",
      "Val Loss: 0.9875, Val Accuracy: 0.5386\n"
     ]
    },
    {
     "name": "stderr",
     "output_type": "stream",
     "text": [
      "Epoch 23/100: 100%|██████████| 8/8 [00:05<00:00,  1.47batch/s, accuracy=0.644, loss=0.782] \n"
     ]
    },
    {
     "name": "stdout",
     "output_type": "stream",
     "text": [
      "Train Loss: 0.7817, Train Accuracy: 0.6436\n",
      "Val Loss: 0.9868, Val Accuracy: 0.5407\n"
     ]
    },
    {
     "name": "stderr",
     "output_type": "stream",
     "text": [
      "Epoch 24/100: 100%|██████████| 8/8 [00:02<00:00,  2.77batch/s, accuracy=0.653, loss=0.775] \n"
     ]
    },
    {
     "name": "stdout",
     "output_type": "stream",
     "text": [
      "Train Loss: 0.7749, Train Accuracy: 0.6533\n",
      "Val Loss: 0.9969, Val Accuracy: 0.5368\n"
     ]
    },
    {
     "name": "stderr",
     "output_type": "stream",
     "text": [
      "Epoch 25/100: 100%|██████████| 8/8 [00:03<00:00,  2.64batch/s, accuracy=0.659, loss=0.767] \n"
     ]
    },
    {
     "name": "stdout",
     "output_type": "stream",
     "text": [
      "Train Loss: 0.7666, Train Accuracy: 0.6587\n",
      "Val Loss: 1.0081, Val Accuracy: 0.5366\n"
     ]
    },
    {
     "name": "stderr",
     "output_type": "stream",
     "text": [
      "Epoch 26/100: 100%|██████████| 8/8 [00:02<00:00,  3.15batch/s, accuracy=0.655, loss=0.773]  "
     ]
    },
    {
     "name": "stdout",
     "output_type": "stream",
     "text": [
      "Train Loss: 0.7733, Train Accuracy: 0.6545\n",
      "Val Loss: 1.0016, Val Accuracy: 0.5383\n",
      "Early stopping triggered. No improvement in validation accuracy.\n",
      "Finished Training, time:  74.32534551620483\n",
      "Saving model...\n",
      "Model saved, time:  0.008065223693847656\n",
      "Finished, Total time:  75.63036322593689\n"
     ]
    },
    {
     "name": "stderr",
     "output_type": "stream",
     "text": [
      "\n"
     ]
    }
   ],
   "execution_count": 16
  },
  {
   "metadata": {},
   "cell_type": "code",
   "source": "",
   "id": "4920c770ed8d9224",
   "outputs": [],
   "execution_count": null
  }
 ],
 "metadata": {
  "kernelspec": {
   "display_name": "Python 3",
   "language": "python",
   "name": "python3"
  },
  "language_info": {
   "codemirror_mode": {
    "name": "ipython",
    "version": 2
   },
   "file_extension": ".py",
   "mimetype": "text/x-python",
   "name": "python",
   "nbconvert_exporter": "python",
   "pygments_lexer": "ipython2",
   "version": "2.7.6"
  }
 },
 "nbformat": 4,
 "nbformat_minor": 5
}
