{
 "cells": [
  {
   "metadata": {},
   "cell_type": "code",
   "source": [
    "\n",
    "def normalize_data(train_data, val_data):\n",
    "    # Połącz wszystkie MFCC coefficients z danych treningowych w jedną tablicę\n",
    "    all_mfccs = np.concatenate([np.array([item[0] for item in sequence]) for sequence in train_data])\n",
    "\n",
    "    print(all_mfccs.shape())\n",
    "    # Oblicz średnią i odchylenie standardowe\n",
    "    mean = np.mean(all_mfccs, axis=0)\n",
    "    std = np.std(all_mfccs, axis=0)\n",
    "\n",
    "    print(mean.shape())\n",
    "    print(std.shape())\n",
    "    # Funkcja do normalizacji pojedynczej sekwencji\n",
    "    def normalize_sequence(sequence):\n",
    "        return [( (np.array(mfcc) - mean) / std, label ) for mfcc, label in sequence]\n",
    "\n",
    "    # Znormalizuj dane treningowe i walidacyjne\n",
    "    normalized_train_data = [normalize_sequence(sequence) for sequence in train_data]\n",
    "    normalized_val_data = [normalize_sequence(sequence) for sequence in val_data]\n",
    "\n",
    "    return normalized_train_data, normalized_val_data, mean, std\n"
   ],
   "id": "b3387543fa33cb3a",
   "outputs": [],
   "execution_count": null
  },
  {
   "metadata": {},
   "cell_type": "markdown",
   "source": "## Audio data normalization function",
   "id": "38c2370425a0ad01"
  },
  {
   "metadata": {},
   "cell_type": "markdown",
   "source": "# **Data preprocessing**",
   "id": "f60c5ddf4c188baa"
  },
  {
   "metadata": {
    "ExecuteTime": {
     "end_time": "2025-02-06T23:09:52.843358Z",
     "start_time": "2025-02-06T23:08:10.356887Z"
    }
   },
   "cell_type": "code",
   "source": [
    "import os\n",
    "from scipy.io.wavfile import read\n",
    "import csv\n",
    "from sklearn.model_selection import train_test_split\n",
    "from torch.utils.data import DataLoader\n",
    "import numpy as np\n",
    "import librosa\n",
    "\n",
    "REFRESH_TIME = 0.25  # seconds\n",
    "BATCH_SIZE = 16\n",
    "\n",
    "# Directories with data\n",
    "data_dir = '../../train-sequences'\n",
    "\n",
    "# Function to load labels from csv file\n",
    "def load_labels(csv_file_v):\n",
    "    labels_v = []\n",
    "    with open(csv_file_v, 'r') as file:\n",
    "        reader = csv.reader(file)\n",
    "        next(reader)  # Pomijamy nagłówek\n",
    "        for row in reader:\n",
    "            if row[0] == 'silence':\n",
    "                labels_v.append((2, int(row[1]), int(row[2])))\n",
    "            elif row[0] == 'inhale':\n",
    "                labels_v.append((1, int(row[1]), int(row[2])))\n",
    "            elif row[0] == 'exhale':\n",
    "                labels_v.append((0, int(row[1]), int(row[2])))\n",
    "    return labels_v\n",
    "\n",
    "# Function to get the label for a given time\n",
    "def get_label_for_time(labels_v, start_frame, end_frame):\n",
    "    label_counts = [0, 0, 0]  # 0: exhale, 1: inhale, 2: silence\n",
    "\n",
    "    for label_it, start, end in labels_v:\n",
    "        if start < end_frame and end > start_frame:\n",
    "            overlap_start = max(start, start_frame)\n",
    "            overlap_end = min(end, end_frame)\n",
    "            overlap_length = overlap_end - overlap_start\n",
    "            label_counts[label_it] += overlap_length\n",
    "\n",
    "    return label_counts.index(max(label_counts))\n",
    "\n",
    "# Creating list of files\n",
    "wav_files = [os.path.join(data_dir, file) for file in os.listdir(data_dir) if file.endswith('.wav')]\n",
    "train_data = []\n",
    "\n",
    "# Main loop to preprocess data into MFCCs\n",
    "for wav_file in wav_files:\n",
    "    csv_file = wav_file.replace('.wav', '.csv')\n",
    "    if not os.path.exists(csv_file):\n",
    "        continue\n",
    "\n",
    "    # Load audio and labels\n",
    "    sr, y = read(wav_file)\n",
    "\n",
    "    if sr != 44100:\n",
    "        # raise Exception(\"Sampling rate is not 44100 its {}\".format(sr))\n",
    "        print(\"Sampling rate is not 44100 its {}\".format(sr))\n",
    "\n",
    "    labels = load_labels(csv_file)\n",
    "\n",
    "    # Calculate chunk size\n",
    "    chunk_size = int(sr * REFRESH_TIME)\n",
    "\n",
    "    # List of MFCCs for every data sequence (it will be a list of lists of tuples (mfcc coefficients, label))\n",
    "    mfcc_sequence = []\n",
    "\n",
    "    # Iterate through every 0.25s audio chunk\n",
    "    for i in range(0, len(y), chunk_size):\n",
    "        frame = y[i:i + chunk_size]\n",
    "        if len(frame) == chunk_size:\n",
    "            frame = frame.astype(np.float32)\n",
    "            frame /= np.iinfo(np.int16).max\n",
    "            mfcc = librosa.feature.mfcc(y=frame, sr=sr)\n",
    "            mfcc_mean = mfcc.mean(axis=1)\n",
    "            label = get_label_for_time(labels, i, i + chunk_size)\n",
    "            mfcc_sequence.append((mfcc_mean, label))\n",
    "\n",
    "    if mfcc_sequence:\n",
    "        train_data.append(mfcc_sequence)"
   ],
   "id": "2e259d6856399c02",
   "outputs": [],
   "execution_count": 2
  },
  {
   "metadata": {
    "ExecuteTime": {
     "end_time": "2025-02-06T23:10:28.079320Z",
     "start_time": "2025-02-06T23:10:28.070189Z"
    }
   },
   "cell_type": "code",
   "source": [
    "# Check length of every sequence\n",
    "\n",
    "lengths = [len(seq) for seq in train_data]\n",
    "print(\"Min length: \", min(lengths))\n",
    "print(\"Max length: \", max(lengths))\n",
    "print(lengths)"
   ],
   "id": "15d263ccff2a2af6",
   "outputs": [
    {
     "name": "stdout",
     "output_type": "stream",
     "text": [
      "Min length:  40\n",
      "Max length:  40\n",
      "[40, 40, 40, 40, 40, 40, 40, 40, 40, 40, 40, 40, 40, 40, 40, 40, 40, 40, 40, 40, 40, 40, 40, 40, 40, 40, 40, 40, 40, 40, 40, 40, 40, 40, 40, 40, 40, 40, 40, 40, 40, 40, 40, 40, 40, 40, 40, 40, 40, 40, 40, 40, 40, 40, 40, 40, 40, 40, 40, 40, 40, 40, 40, 40, 40, 40, 40, 40, 40, 40, 40, 40, 40, 40, 40, 40, 40, 40, 40, 40, 40, 40, 40, 40, 40, 40, 40, 40, 40, 40, 40, 40, 40, 40, 40, 40, 40, 40, 40, 40, 40, 40, 40, 40, 40, 40, 40, 40, 40, 40, 40, 40, 40, 40, 40, 40, 40, 40, 40, 40, 40, 40, 40, 40, 40, 40, 40, 40, 40, 40, 40, 40, 40, 40, 40, 40, 40, 40, 40, 40, 40, 40, 40, 40, 40, 40, 40, 40, 40, 40, 40, 40, 40, 40, 40, 40, 40, 40, 40, 40, 40, 40, 40, 40, 40, 40, 40, 40, 40, 40, 40, 40, 40, 40, 40, 40, 40, 40, 40, 40, 40, 40, 40, 40, 40, 40, 40, 40, 40, 40, 40, 40, 40, 40, 40, 40, 40, 40, 40, 40, 40, 40, 40, 40, 40, 40, 40, 40, 40, 40, 40, 40, 40, 40, 40, 40, 40, 40, 40, 40, 40, 40, 40, 40, 40, 40, 40, 40, 40, 40, 40, 40, 40, 40, 40, 40, 40, 40, 40, 40, 40, 40, 40, 40, 40, 40, 40, 40, 40, 40, 40, 40, 40, 40, 40, 40, 40, 40, 40, 40, 40, 40, 40, 40, 40, 40, 40, 40, 40, 40, 40, 40, 40, 40, 40, 40, 40, 40, 40, 40, 40, 40, 40, 40, 40, 40, 40, 40, 40, 40, 40, 40, 40, 40, 40, 40, 40, 40, 40, 40, 40, 40, 40, 40, 40, 40, 40, 40, 40, 40, 40, 40, 40, 40, 40, 40, 40, 40, 40, 40, 40, 40, 40, 40, 40, 40, 40, 40, 40, 40, 40, 40, 40, 40, 40, 40, 40, 40, 40, 40, 40, 40, 40, 40, 40, 40, 40, 40, 40, 40, 40]\n"
     ]
    }
   ],
   "execution_count": 3
  },
  {
   "metadata": {},
   "cell_type": "markdown",
   "source": "# **Data Loader**",
   "id": "9ca0c0d1656d1e1a"
  },
  {
   "metadata": {
    "ExecuteTime": {
     "end_time": "2025-02-06T23:10:46.877045Z",
     "start_time": "2025-02-06T23:10:46.859011Z"
    }
   },
   "cell_type": "code",
   "source": [
    "# Split data into train and validation sets\n",
    "train_data, val_data = train_test_split(train_data, test_size=0.2)\n",
    "\n",
    "# DataLoader and collate function\n",
    "from model_classes import AudioDataset\n",
    "import torch\n",
    "\n",
    "train_dataset = AudioDataset(train_data)\n",
    "val_dataset = AudioDataset(val_data)\n",
    "\n",
    "def collate_fn(batch):\n",
    "    sequences, labels_t = zip(*batch)\n",
    "    lengths_t = [seq.size(0) for seq in sequences]\n",
    "    max_length = max(lengths_t)\n",
    "    padded_sequences = torch.zeros(len(sequences), max_length, 20)\n",
    "    padded_labels = torch.zeros(len(sequences), max_length, dtype=torch.long)\n",
    "    for j, seq in enumerate(sequences):\n",
    "        padded_sequences[j, :seq.size(0), :] = seq\n",
    "        padded_labels[j, :len(labels_t[j])] = labels_t[j]\n",
    "    return padded_sequences, padded_labels\n",
    "\n",
    "train_loader = DataLoader(train_dataset, batch_size=BATCH_SIZE, shuffle=True, collate_fn=collate_fn)\n",
    "val_loader = DataLoader(val_dataset, batch_size=BATCH_SIZE, shuffle=False, collate_fn=collate_fn)"
   ],
   "id": "2351c796d1a59395",
   "outputs": [],
   "execution_count": 4
  },
  {
   "metadata": {},
   "cell_type": "markdown",
   "source": "# **Training**",
   "id": "7610dd8d5e792cad"
  },
  {
   "metadata": {
    "ExecuteTime": {
     "end_time": "2025-02-06T23:11:30.520464Z",
     "start_time": "2025-02-06T23:10:49.045007Z"
    }
   },
   "cell_type": "code",
   "source": [
    "import time\n",
    "import torch.optim as optim\n",
    "from tqdm import tqdm\n",
    "from sklearn.metrics import accuracy_score\n",
    "from model_classes import AudioClassifierLSTM as AudioClassifier\n",
    "import torch.nn as nn\n",
    "\n",
    "REFRESH_TIME = 0.25  # Refresh time in seconds in future realtime\n",
    "NUM_EPOCHS = 100  # Number of epochs (the more epoch the better model, but it takes more time)\n",
    "PATIENCE_TIME = 10  # Number of epochs without improvement in validation accuracy that will stop training\n",
    "LEARNING_RATE = 0.001  # Learning rate\n",
    "BATCH_SIZE = 16  # Batch size (amount of sequences in one batch)\n",
    "\n",
    "# Check if CUDA is available (learning on GPU is much faster)\n",
    "device = torch.device('cuda' if torch.cuda.is_available() else 'cpu')\n",
    "print(\"Device: \", device)\n",
    "\n",
    "total_time = time.time()\n",
    "start_time = time.time()\n",
    "\n",
    "# Create model object\n",
    "print(\"Creating model...\")\n",
    "model = AudioClassifier()\n",
    "model = model.to(device)\n",
    "print(\"Model created, time: \", time.time() - start_time)\n",
    "\n",
    "# Define loss function and optimizer (network parameters)\n",
    "criterion = nn.CrossEntropyLoss()\n",
    "optimizer = optim.Adam(model.parameters())\n",
    "scheduler = torch.optim.lr_scheduler.StepLR(optimizer, step_size=5, gamma=0.5)\n",
    "\n",
    "# These are just for early stopping\n",
    "best_val_accuracy = 0.0\n",
    "early_stopping_counter = 0\n",
    "\n",
    "print(\"Training model...\")\n",
    "start_time = time.time()\n",
    "\n",
    "# Iterate through epochs\n",
    "for epoch in range(NUM_EPOCHS):\n",
    "\n",
    "    # Enable training on model object\n",
    "    model.train()\n",
    "\n",
    "    # Initialize running loss and accuracy\n",
    "    running_loss = 0.0\n",
    "    running_accuracy = 0.0\n",
    "    # It's just a fancy progress bar in console\n",
    "    progress_bar = tqdm(train_loader, desc=f'Epoch {epoch + 1}/{NUM_EPOCHS}', unit='batch')\n",
    "\n",
    "    # Iterate through batches\n",
    "    for inputs, labels in progress_bar:\n",
    "\n",
    "        # Move inputs and labels to the device (GPU or CPU)\n",
    "        inputs = inputs.to(device)\n",
    "        labels = labels.to(device)\n",
    "\n",
    "        # Zero the gradients\n",
    "        optimizer.zero_grad()\n",
    "\n",
    "        # Forward pass\n",
    "        outputs = model(inputs)\n",
    "\n",
    "        # Jeśli model zwraca więcej niż jedną wartość, przypisz odpowiednią wartość do outputs\n",
    "        if isinstance(outputs, tuple):\n",
    "            outputs = outputs[0]\n",
    "\n",
    "        # Flattening outputs and labels from [batch_size, max_length, num_classes]\n",
    "        outputs = outputs.view(-1, outputs.size(-1))  # Flattening to [batch_size * max_length, num_classes]\n",
    "        labels = labels.view(-1)  # Flattening to [batch_size * max_length]\n",
    "\n",
    "        # Calculate loss\n",
    "        loss = criterion(outputs, labels)\n",
    "\n",
    "        # Backward pass (calculate gradients)\n",
    "        loss.backward()\n",
    "\n",
    "        # Update weights according to the calculated gradients\n",
    "        optimizer.step()\n",
    "\n",
    "        # Calculate running loss and accuracy\n",
    "        running_loss += loss.item()\n",
    "        _, predicted = torch.max(outputs, 1)\n",
    "        running_accuracy += accuracy_score(labels.cpu(), predicted.cpu())\n",
    "\n",
    "        # Update progress bar\n",
    "        progress_bar.set_postfix(loss=running_loss / len(progress_bar),\n",
    "                                  accuracy=running_accuracy / len(progress_bar))\n",
    "\n",
    "    # Print the loss and accuracy for the epoch\n",
    "    print('Train Loss: {:.4f}, Train Accuracy: {:.4f}'.format(running_loss / len(train_loader),\n",
    "                                                              running_accuracy / len(train_loader)))\n",
    "\n",
    "    # After training on the whole training set, we can evaluate the model on the validation set\n",
    "    model.eval()\n",
    "    val_running_loss = 0.0\n",
    "    val_running_accuracy = 0.0\n",
    "\n",
    "    # We don't need to calculate gradients during validation\n",
    "    with torch.no_grad():\n",
    "\n",
    "        # Iterate through validation set\n",
    "        for inputs, labels in val_loader:\n",
    "\n",
    "            # Move inputs and labels to the device\n",
    "            inputs = inputs.to(device)\n",
    "            labels = labels.to(device)\n",
    "\n",
    "            # Forward pass\n",
    "            outputs = model(inputs)\n",
    "\n",
    "            # Jeśli model zwraca więcej niż jedną wartość, przypisz odpowiednią wartość do outputs\n",
    "            if isinstance(outputs, tuple):\n",
    "                outputs = outputs[0]\n",
    "\n",
    "            # As previous, we need to flatten outputs and labels\n",
    "            outputs = outputs.view(-1, outputs.size(-1)) # Flattening to [batch_size * max_length, num_classes]\n",
    "            labels = labels.view(-1) # Flattening to [batch_size * max_length]\n",
    "\n",
    "            # Calculate loss\n",
    "            loss = criterion(outputs, labels)\n",
    "\n",
    "            # Calculate running loss (cumulative loss over batches) and add current epoch's accuracy to the running (cumulative) accuracy\n",
    "            val_running_loss += loss.item()\n",
    "            _, predicted = torch.max(outputs, 1)\n",
    "            val_running_accuracy += accuracy_score(labels.cpu(), predicted.cpu())\n",
    "\n",
    "    # Calculate cumulative loss and accuracy for the validation set\n",
    "    avg_val_loss = val_running_loss / len(val_loader)\n",
    "    avg_val_accuracy = val_running_accuracy / len(val_loader)\n",
    "\n",
    "    # And print it\n",
    "    print('Val Loss: {:.4f}, Val Accuracy: {:.4f}'.format(avg_val_loss, avg_val_accuracy))\n",
    "\n",
    "    # Learning rate scheduler (changing learning rate during training)\n",
    "    scheduler.step()\n",
    "\n",
    "    # Early stopping (if there is no improvement in validation accuracy for PATIENCE_TIME epochs, we stop training)\n",
    "    if avg_val_accuracy > best_val_accuracy:\n",
    "        best_val_accuracy = avg_val_accuracy\n",
    "        early_stopping_counter = 0\n",
    "    else:\n",
    "        early_stopping_counter += 1\n",
    "        if early_stopping_counter >= PATIENCE_TIME:\n",
    "            print(\"Early stopping triggered. No improvement in validation accuracy.\")\n",
    "            break\n",
    "\n",
    "# And print final results\n",
    "print('Finished Training, time: ', time.time() - start_time)\n",
    "print('Saving model...')\n",
    "start_time = time.time()\n",
    "#TODO\n",
    "torch.save(model.state_dict(), 'audio_lstm_classifier_test.pth')\n",
    "print(\"Model saved, time: \", time.time() - start_time)\n",
    "print(\"Finished, Total time: \", time.time() - total_time)"
   ],
   "id": "f77d53c4715f2c6f",
   "outputs": [
    {
     "name": "stdout",
     "output_type": "stream",
     "text": [
      "Device:  cpu\n",
      "Creating model...\n",
      "Model created, time:  0.007501840591430664\n"
     ]
    },
    {
     "name": "stderr",
     "output_type": "stream",
     "text": [
      "/home/tomasz/Pulpit/breathing-classification-v2/.venv/lib/python3.12/site-packages/torch/nn/modules/rnn.py:123: UserWarning: dropout option adds dropout after all but last recurrent layer, so non-zero dropout expects num_layers greater than 1, but got dropout=0.2 and num_layers=1\n",
      "  warnings.warn(\n"
     ]
    },
    {
     "name": "stdout",
     "output_type": "stream",
     "text": [
      "Training model...\n"
     ]
    },
    {
     "name": "stderr",
     "output_type": "stream",
     "text": [
      "Epoch 1/100:   0%|          | 0/18 [00:00<?, ?batch/s]/home/tomasz/Pulpit/breathing-classification-v2/model/initial-lstm/model_classes.py:67: UserWarning: Creating a tensor from a list of numpy.ndarrays is extremely slow. Please consider converting the list to a single numpy.ndarray with numpy.array() before converting to a tensor. (Triggered internally at ../torch/csrc/utils/tensor_new.cpp:278.)\n",
      "  mfcc_sequence = torch.tensor(mfcc_sequence, dtype=torch.float32)\n",
      "Epoch 1/100: 100%|██████████| 18/18 [00:01<00:00, 15.45batch/s, accuracy=0.489, loss=1.04] \n"
     ]
    },
    {
     "name": "stdout",
     "output_type": "stream",
     "text": [
      "Train Loss: 1.0434, Train Accuracy: 0.4890\n",
      "Val Loss: 0.9299, Val Accuracy: 0.5871\n"
     ]
    },
    {
     "name": "stderr",
     "output_type": "stream",
     "text": [
      "Epoch 2/100: 100%|██████████| 18/18 [00:01<00:00, 16.88batch/s, accuracy=0.614, loss=0.861]\n"
     ]
    },
    {
     "name": "stdout",
     "output_type": "stream",
     "text": [
      "Train Loss: 0.8613, Train Accuracy: 0.6136\n",
      "Val Loss: 0.8421, Val Accuracy: 0.6155\n"
     ]
    },
    {
     "name": "stderr",
     "output_type": "stream",
     "text": [
      "Epoch 3/100: 100%|██████████| 18/18 [00:01<00:00, 14.95batch/s, accuracy=0.679, loss=0.736] \n"
     ]
    },
    {
     "name": "stdout",
     "output_type": "stream",
     "text": [
      "Train Loss: 0.7356, Train Accuracy: 0.6793\n",
      "Val Loss: 0.6553, Val Accuracy: 0.7132\n"
     ]
    },
    {
     "name": "stderr",
     "output_type": "stream",
     "text": [
      "Epoch 4/100: 100%|██████████| 18/18 [00:01<00:00, 16.35batch/s, accuracy=0.742, loss=0.625] \n"
     ]
    },
    {
     "name": "stdout",
     "output_type": "stream",
     "text": [
      "Train Loss: 0.6246, Train Accuracy: 0.7417\n",
      "Val Loss: 0.5680, Val Accuracy: 0.7621\n"
     ]
    },
    {
     "name": "stderr",
     "output_type": "stream",
     "text": [
      "Epoch 5/100: 100%|██████████| 18/18 [00:01<00:00, 15.59batch/s, accuracy=0.767, loss=0.555] \n"
     ]
    },
    {
     "name": "stdout",
     "output_type": "stream",
     "text": [
      "Train Loss: 0.5550, Train Accuracy: 0.7667\n",
      "Val Loss: 0.5546, Val Accuracy: 0.7737\n"
     ]
    },
    {
     "name": "stderr",
     "output_type": "stream",
     "text": [
      "Epoch 6/100: 100%|██████████| 18/18 [00:01<00:00, 15.73batch/s, accuracy=0.785, loss=0.53]  \n"
     ]
    },
    {
     "name": "stdout",
     "output_type": "stream",
     "text": [
      "Train Loss: 0.5304, Train Accuracy: 0.7849\n",
      "Val Loss: 0.5505, Val Accuracy: 0.7782\n"
     ]
    },
    {
     "name": "stderr",
     "output_type": "stream",
     "text": [
      "Epoch 7/100: 100%|██████████| 18/18 [00:00<00:00, 18.37batch/s, accuracy=0.798, loss=0.496] \n"
     ]
    },
    {
     "name": "stdout",
     "output_type": "stream",
     "text": [
      "Train Loss: 0.4956, Train Accuracy: 0.7984\n",
      "Val Loss: 0.4769, Val Accuracy: 0.8101\n"
     ]
    },
    {
     "name": "stderr",
     "output_type": "stream",
     "text": [
      "Epoch 8/100: 100%|██████████| 18/18 [00:00<00:00, 20.88batch/s, accuracy=0.809, loss=0.473]\n"
     ]
    },
    {
     "name": "stdout",
     "output_type": "stream",
     "text": [
      "Train Loss: 0.4727, Train Accuracy: 0.8089\n",
      "Val Loss: 0.4768, Val Accuracy: 0.8063\n"
     ]
    },
    {
     "name": "stderr",
     "output_type": "stream",
     "text": [
      "Epoch 9/100: 100%|██████████| 18/18 [00:00<00:00, 19.47batch/s, accuracy=0.812, loss=0.448] \n"
     ]
    },
    {
     "name": "stdout",
     "output_type": "stream",
     "text": [
      "Train Loss: 0.4485, Train Accuracy: 0.8119\n",
      "Val Loss: 0.4733, Val Accuracy: 0.8083\n"
     ]
    },
    {
     "name": "stderr",
     "output_type": "stream",
     "text": [
      "Epoch 10/100: 100%|██████████| 18/18 [00:00<00:00, 19.41batch/s, accuracy=0.823, loss=0.443] \n"
     ]
    },
    {
     "name": "stdout",
     "output_type": "stream",
     "text": [
      "Train Loss: 0.4428, Train Accuracy: 0.8232\n",
      "Val Loss: 0.4652, Val Accuracy: 0.8097\n"
     ]
    },
    {
     "name": "stderr",
     "output_type": "stream",
     "text": [
      "Epoch 11/100: 100%|██████████| 18/18 [00:00<00:00, 19.80batch/s, accuracy=0.83, loss=0.421]  \n"
     ]
    },
    {
     "name": "stdout",
     "output_type": "stream",
     "text": [
      "Train Loss: 0.4214, Train Accuracy: 0.8301\n",
      "Val Loss: 0.4470, Val Accuracy: 0.8192\n"
     ]
    },
    {
     "name": "stderr",
     "output_type": "stream",
     "text": [
      "Epoch 12/100: 100%|██████████| 18/18 [00:00<00:00, 18.94batch/s, accuracy=0.834, loss=0.408]\n"
     ]
    },
    {
     "name": "stdout",
     "output_type": "stream",
     "text": [
      "Train Loss: 0.4081, Train Accuracy: 0.8335\n",
      "Val Loss: 0.4433, Val Accuracy: 0.8193\n"
     ]
    },
    {
     "name": "stderr",
     "output_type": "stream",
     "text": [
      "Epoch 13/100: 100%|██████████| 18/18 [00:00<00:00, 20.61batch/s, accuracy=0.839, loss=0.399] \n"
     ]
    },
    {
     "name": "stdout",
     "output_type": "stream",
     "text": [
      "Train Loss: 0.3990, Train Accuracy: 0.8392\n",
      "Val Loss: 0.4306, Val Accuracy: 0.8328\n"
     ]
    },
    {
     "name": "stderr",
     "output_type": "stream",
     "text": [
      "Epoch 14/100: 100%|██████████| 18/18 [00:00<00:00, 19.40batch/s, accuracy=0.842, loss=0.391]\n"
     ]
    },
    {
     "name": "stdout",
     "output_type": "stream",
     "text": [
      "Train Loss: 0.3907, Train Accuracy: 0.8417\n",
      "Val Loss: 0.4397, Val Accuracy: 0.8214\n"
     ]
    },
    {
     "name": "stderr",
     "output_type": "stream",
     "text": [
      "Epoch 15/100: 100%|██████████| 18/18 [00:00<00:00, 19.08batch/s, accuracy=0.84, loss=0.391]  \n"
     ]
    },
    {
     "name": "stdout",
     "output_type": "stream",
     "text": [
      "Train Loss: 0.3905, Train Accuracy: 0.8401\n",
      "Val Loss: 0.4316, Val Accuracy: 0.8253\n"
     ]
    },
    {
     "name": "stderr",
     "output_type": "stream",
     "text": [
      "Epoch 16/100: 100%|██████████| 18/18 [00:00<00:00, 22.84batch/s, accuracy=0.847, loss=0.376] \n"
     ]
    },
    {
     "name": "stdout",
     "output_type": "stream",
     "text": [
      "Train Loss: 0.3757, Train Accuracy: 0.8468\n",
      "Val Loss: 0.4333, Val Accuracy: 0.8262\n"
     ]
    },
    {
     "name": "stderr",
     "output_type": "stream",
     "text": [
      "Epoch 17/100: 100%|██████████| 18/18 [00:00<00:00, 20.60batch/s, accuracy=0.85, loss=0.37]  \n"
     ]
    },
    {
     "name": "stdout",
     "output_type": "stream",
     "text": [
      "Train Loss: 0.3701, Train Accuracy: 0.8500\n",
      "Val Loss: 0.4212, Val Accuracy: 0.8335\n"
     ]
    },
    {
     "name": "stderr",
     "output_type": "stream",
     "text": [
      "Epoch 18/100: 100%|██████████| 18/18 [00:01<00:00, 17.67batch/s, accuracy=0.855, loss=0.365] \n"
     ]
    },
    {
     "name": "stdout",
     "output_type": "stream",
     "text": [
      "Train Loss: 0.3649, Train Accuracy: 0.8551\n",
      "Val Loss: 0.4189, Val Accuracy: 0.8336\n"
     ]
    },
    {
     "name": "stderr",
     "output_type": "stream",
     "text": [
      "Epoch 19/100: 100%|██████████| 18/18 [00:00<00:00, 20.82batch/s, accuracy=0.852, loss=0.362] \n"
     ]
    },
    {
     "name": "stdout",
     "output_type": "stream",
     "text": [
      "Train Loss: 0.3622, Train Accuracy: 0.8516\n",
      "Val Loss: 0.4233, Val Accuracy: 0.8285\n"
     ]
    },
    {
     "name": "stderr",
     "output_type": "stream",
     "text": [
      "Epoch 20/100: 100%|██████████| 18/18 [00:00<00:00, 20.91batch/s, accuracy=0.859, loss=0.357] \n"
     ]
    },
    {
     "name": "stdout",
     "output_type": "stream",
     "text": [
      "Train Loss: 0.3565, Train Accuracy: 0.8588\n",
      "Val Loss: 0.4212, Val Accuracy: 0.8353\n"
     ]
    },
    {
     "name": "stderr",
     "output_type": "stream",
     "text": [
      "Epoch 21/100: 100%|██████████| 18/18 [00:00<00:00, 18.73batch/s, accuracy=0.865, loss=0.349] \n"
     ]
    },
    {
     "name": "stdout",
     "output_type": "stream",
     "text": [
      "Train Loss: 0.3492, Train Accuracy: 0.8651\n",
      "Val Loss: 0.4193, Val Accuracy: 0.8377\n"
     ]
    },
    {
     "name": "stderr",
     "output_type": "stream",
     "text": [
      "Epoch 22/100: 100%|██████████| 18/18 [00:00<00:00, 19.91batch/s, accuracy=0.861, loss=0.348] \n"
     ]
    },
    {
     "name": "stdout",
     "output_type": "stream",
     "text": [
      "Train Loss: 0.3481, Train Accuracy: 0.8605\n",
      "Val Loss: 0.4170, Val Accuracy: 0.8408\n"
     ]
    },
    {
     "name": "stderr",
     "output_type": "stream",
     "text": [
      "Epoch 23/100: 100%|██████████| 18/18 [00:00<00:00, 20.87batch/s, accuracy=0.863, loss=0.347] \n"
     ]
    },
    {
     "name": "stdout",
     "output_type": "stream",
     "text": [
      "Train Loss: 0.3473, Train Accuracy: 0.8626\n",
      "Val Loss: 0.4187, Val Accuracy: 0.8349\n"
     ]
    },
    {
     "name": "stderr",
     "output_type": "stream",
     "text": [
      "Epoch 24/100: 100%|██████████| 18/18 [00:00<00:00, 18.27batch/s, accuracy=0.862, loss=0.347]\n"
     ]
    },
    {
     "name": "stdout",
     "output_type": "stream",
     "text": [
      "Train Loss: 0.3471, Train Accuracy: 0.8619\n",
      "Val Loss: 0.4153, Val Accuracy: 0.8394\n"
     ]
    },
    {
     "name": "stderr",
     "output_type": "stream",
     "text": [
      "Epoch 25/100: 100%|██████████| 18/18 [00:00<00:00, 19.46batch/s, accuracy=0.864, loss=0.342] \n"
     ]
    },
    {
     "name": "stdout",
     "output_type": "stream",
     "text": [
      "Train Loss: 0.3415, Train Accuracy: 0.8640\n",
      "Val Loss: 0.4141, Val Accuracy: 0.8413\n"
     ]
    },
    {
     "name": "stderr",
     "output_type": "stream",
     "text": [
      "Epoch 26/100: 100%|██████████| 18/18 [00:00<00:00, 20.41batch/s, accuracy=0.865, loss=0.344] \n"
     ]
    },
    {
     "name": "stdout",
     "output_type": "stream",
     "text": [
      "Train Loss: 0.3435, Train Accuracy: 0.8650\n",
      "Val Loss: 0.4162, Val Accuracy: 0.8375\n"
     ]
    },
    {
     "name": "stderr",
     "output_type": "stream",
     "text": [
      "Epoch 27/100: 100%|██████████| 18/18 [00:00<00:00, 19.77batch/s, accuracy=0.863, loss=0.343]\n"
     ]
    },
    {
     "name": "stdout",
     "output_type": "stream",
     "text": [
      "Train Loss: 0.3427, Train Accuracy: 0.8629\n",
      "Val Loss: 0.4126, Val Accuracy: 0.8414\n"
     ]
    },
    {
     "name": "stderr",
     "output_type": "stream",
     "text": [
      "Epoch 28/100: 100%|██████████| 18/18 [00:00<00:00, 20.16batch/s, accuracy=0.865, loss=0.34] \n"
     ]
    },
    {
     "name": "stdout",
     "output_type": "stream",
     "text": [
      "Train Loss: 0.3403, Train Accuracy: 0.8654\n",
      "Val Loss: 0.4125, Val Accuracy: 0.8417\n"
     ]
    },
    {
     "name": "stderr",
     "output_type": "stream",
     "text": [
      "Epoch 29/100: 100%|██████████| 18/18 [00:00<00:00, 20.68batch/s, accuracy=0.867, loss=0.338]\n"
     ]
    },
    {
     "name": "stdout",
     "output_type": "stream",
     "text": [
      "Train Loss: 0.3380, Train Accuracy: 0.8672\n",
      "Val Loss: 0.4156, Val Accuracy: 0.8368\n"
     ]
    },
    {
     "name": "stderr",
     "output_type": "stream",
     "text": [
      "Epoch 30/100: 100%|██████████| 18/18 [00:01<00:00, 17.38batch/s, accuracy=0.868, loss=0.335]\n"
     ]
    },
    {
     "name": "stdout",
     "output_type": "stream",
     "text": [
      "Train Loss: 0.3350, Train Accuracy: 0.8677\n",
      "Val Loss: 0.4116, Val Accuracy: 0.8439\n"
     ]
    },
    {
     "name": "stderr",
     "output_type": "stream",
     "text": [
      "Epoch 31/100: 100%|██████████| 18/18 [00:00<00:00, 20.91batch/s, accuracy=0.868, loss=0.335] \n"
     ]
    },
    {
     "name": "stdout",
     "output_type": "stream",
     "text": [
      "Train Loss: 0.3351, Train Accuracy: 0.8683\n",
      "Val Loss: 0.4120, Val Accuracy: 0.8404\n"
     ]
    },
    {
     "name": "stderr",
     "output_type": "stream",
     "text": [
      "Epoch 32/100: 100%|██████████| 18/18 [00:00<00:00, 22.43batch/s, accuracy=0.865, loss=0.334] \n"
     ]
    },
    {
     "name": "stdout",
     "output_type": "stream",
     "text": [
      "Train Loss: 0.3344, Train Accuracy: 0.8652\n",
      "Val Loss: 0.4133, Val Accuracy: 0.8401\n"
     ]
    },
    {
     "name": "stderr",
     "output_type": "stream",
     "text": [
      "Epoch 33/100: 100%|██████████| 18/18 [00:00<00:00, 20.48batch/s, accuracy=0.865, loss=0.334] \n"
     ]
    },
    {
     "name": "stdout",
     "output_type": "stream",
     "text": [
      "Train Loss: 0.3344, Train Accuracy: 0.8652\n",
      "Val Loss: 0.4118, Val Accuracy: 0.8412\n"
     ]
    },
    {
     "name": "stderr",
     "output_type": "stream",
     "text": [
      "Epoch 34/100: 100%|██████████| 18/18 [00:00<00:00, 18.55batch/s, accuracy=0.868, loss=0.334] \n"
     ]
    },
    {
     "name": "stdout",
     "output_type": "stream",
     "text": [
      "Train Loss: 0.3337, Train Accuracy: 0.8680\n",
      "Val Loss: 0.4119, Val Accuracy: 0.8419\n"
     ]
    },
    {
     "name": "stderr",
     "output_type": "stream",
     "text": [
      "Epoch 35/100: 100%|██████████| 18/18 [00:00<00:00, 19.88batch/s, accuracy=0.869, loss=0.333] \n"
     ]
    },
    {
     "name": "stdout",
     "output_type": "stream",
     "text": [
      "Train Loss: 0.3329, Train Accuracy: 0.8688\n",
      "Val Loss: 0.4113, Val Accuracy: 0.8422\n"
     ]
    },
    {
     "name": "stderr",
     "output_type": "stream",
     "text": [
      "Epoch 36/100: 100%|██████████| 18/18 [00:00<00:00, 18.89batch/s, accuracy=0.866, loss=0.336] \n"
     ]
    },
    {
     "name": "stdout",
     "output_type": "stream",
     "text": [
      "Train Loss: 0.3365, Train Accuracy: 0.8655\n",
      "Val Loss: 0.4123, Val Accuracy: 0.8392\n"
     ]
    },
    {
     "name": "stderr",
     "output_type": "stream",
     "text": [
      "Epoch 37/100: 100%|██████████| 18/18 [00:01<00:00, 16.27batch/s, accuracy=0.869, loss=0.332] \n"
     ]
    },
    {
     "name": "stdout",
     "output_type": "stream",
     "text": [
      "Train Loss: 0.3319, Train Accuracy: 0.8689\n",
      "Val Loss: 0.4114, Val Accuracy: 0.8398\n"
     ]
    },
    {
     "name": "stderr",
     "output_type": "stream",
     "text": [
      "Epoch 38/100: 100%|██████████| 18/18 [00:01<00:00, 16.68batch/s, accuracy=0.866, loss=0.338] \n"
     ]
    },
    {
     "name": "stdout",
     "output_type": "stream",
     "text": [
      "Train Loss: 0.3376, Train Accuracy: 0.8665\n",
      "Val Loss: 0.4112, Val Accuracy: 0.8412\n"
     ]
    },
    {
     "name": "stderr",
     "output_type": "stream",
     "text": [
      "Epoch 39/100: 100%|██████████| 18/18 [00:01<00:00, 16.25batch/s, accuracy=0.871, loss=0.328] \n"
     ]
    },
    {
     "name": "stdout",
     "output_type": "stream",
     "text": [
      "Train Loss: 0.3284, Train Accuracy: 0.8707\n",
      "Val Loss: 0.4119, Val Accuracy: 0.8408\n"
     ]
    },
    {
     "name": "stderr",
     "output_type": "stream",
     "text": [
      "Epoch 40/100: 100%|██████████| 18/18 [00:00<00:00, 19.13batch/s, accuracy=0.868, loss=0.332] \n"
     ]
    },
    {
     "name": "stdout",
     "output_type": "stream",
     "text": [
      "Train Loss: 0.3322, Train Accuracy: 0.8681\n",
      "Val Loss: 0.4105, Val Accuracy: 0.8419\n",
      "Early stopping triggered. No improvement in validation accuracy.\n",
      "Finished Training, time:  40.510581731796265\n",
      "Saving model...\n",
      "Model saved, time:  0.008564949035644531\n",
      "Finished, Total time:  41.459911823272705\n"
     ]
    }
   ],
   "execution_count": 5
  }
 ],
 "metadata": {
  "kernelspec": {
   "display_name": "Python 3 (ipykernel)",
   "language": "python",
   "name": "python3"
  },
  "language_info": {
   "codemirror_mode": {
    "name": "ipython",
    "version": 2
   },
   "file_extension": ".py",
   "mimetype": "text/x-python",
   "name": "python",
   "nbconvert_exporter": "python",
   "pygments_lexer": "ipython2",
   "version": "2.7.6"
  }
 },
 "nbformat": 4,
 "nbformat_minor": 5
}
